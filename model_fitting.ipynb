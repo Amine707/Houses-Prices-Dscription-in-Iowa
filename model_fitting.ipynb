{
  "metadata": {
    "kernelspec": {
      "display_name": "Python 3",
      "language": "python",
      "name": "python3"
    },
    "language_info": {
      "name": "python",
      "version": "3.7.12",
      "mimetype": "text/x-python",
      "codemirror_mode": {
        "name": "ipython",
        "version": 3
      },
      "pygments_lexer": "ipython3",
      "nbconvert_exporter": "python",
      "file_extension": ".py"
    },
    "colab": {
      "name": "model_fitting.ipynb",
      "provenance": [],
      "toc_visible": true
    }
  },
  "nbformat_minor": 0,
  "nbformat": 4,
  "cells": [
    {
      "cell_type": "markdown",
      "source": [
        "## Recap\n"
      ],
      "metadata": {
        "id": "dPFNJ1wf3WZq"
      }
    },
    {
      "cell_type": "code",
      "source": [
        "import pandas as pd\n",
        "\n",
        "# Path of the file to read\n",
        "iowa_file_path = '../input/home-data-for-ml-course/train.csv'\n",
        "\n",
        "home_data = pd.read_csv(iowa_file_path)"
      ],
      "metadata": {
        "execution": {
          "iopub.status.busy": "2022-08-03T21:40:48.898086Z",
          "iopub.execute_input": "2022-08-03T21:40:48.898552Z",
          "iopub.status.idle": "2022-08-03T21:40:50.305557Z",
          "shell.execute_reply.started": "2022-08-03T21:40:48.898455Z",
          "shell.execute_reply": "2022-08-03T21:40:50.304374Z"
        },
        "trusted": true,
        "id": "JxlOmxMH3WZs"
      },
      "execution_count": null,
      "outputs": []
    },
    {
      "cell_type": "markdown",
      "source": [
        "# Step 1: Specify Prediction Target\n",
        "Selecting the target variable, which corresponds to the sales price. Saving this to a new variable called `y`. "
      ],
      "metadata": {
        "id": "GYE_xp_p3WZv"
      }
    },
    {
      "cell_type": "code",
      "source": [
        "# printing the list of columns in the dataset to find the name of the prediction target\n",
        "home_data.columns"
      ],
      "metadata": {
        "execution": {
          "iopub.status.busy": "2022-08-03T21:41:49.495388Z",
          "iopub.execute_input": "2022-08-03T21:41:49.495845Z",
          "iopub.status.idle": "2022-08-03T21:41:49.506226Z",
          "shell.execute_reply.started": "2022-08-03T21:41:49.495793Z",
          "shell.execute_reply": "2022-08-03T21:41:49.505253Z"
        },
        "trusted": true,
        "id": "NHv_GMBX3WZv"
      },
      "execution_count": null,
      "outputs": []
    },
    {
      "cell_type": "code",
      "source": [
        "y = home_data.SalePrice"
      ],
      "metadata": {
        "execution": {
          "iopub.status.busy": "2022-08-03T21:42:28.236337Z",
          "iopub.execute_input": "2022-08-03T21:42:28.237002Z",
          "iopub.status.idle": "2022-08-03T21:42:28.250126Z",
          "shell.execute_reply.started": "2022-08-03T21:42:28.236948Z",
          "shell.execute_reply": "2022-08-03T21:42:28.248808Z"
        },
        "trusted": true,
        "id": "7YgfAfuk3WZw"
      },
      "execution_count": null,
      "outputs": []
    },
    {
      "cell_type": "markdown",
      "source": [
        "# Step 2: Create X\n",
        "Creating a DataFrame called `X` holding the predictive features.\n",
        "\n",
        "Using just the following columns in the list :\n",
        "  * LotArea\n",
        "  * YearBuilt\n",
        "  * 1stFlrSF\n",
        "  * 2ndFlrSF\n",
        "  * FullBath\n",
        "  * BedroomAbvGr\n",
        "  * TotRmsAbvGrd\n",
        "\n",
        "We will use it to create the DataFrame that you'll use to fit the model."
      ],
      "metadata": {
        "id": "R6_f4wjS3WZy"
      }
    },
    {
      "cell_type": "code",
      "source": [
        "# Creating the list of features \n",
        "feature_names = ['LotArea', 'YearBuilt', '1stFlrSF', '2ndFlrSF', 'FullBath', 'BedroomAbvGr', 'TotRmsAbvGrd']\n",
        "\n",
        "# Selecting data corresponding to features in feature_names\n",
        "X = home_data[feature_names]"
      ],
      "metadata": {
        "execution": {
          "iopub.status.busy": "2022-08-03T21:44:05.197915Z",
          "iopub.execute_input": "2022-08-03T21:44:05.198399Z",
          "iopub.status.idle": "2022-08-03T21:44:05.216437Z",
          "shell.execute_reply.started": "2022-08-03T21:44:05.198362Z",
          "shell.execute_reply": "2022-08-03T21:44:05.215291Z"
        },
        "trusted": true,
        "id": "G5jNkpX13WZy"
      },
      "execution_count": null,
      "outputs": []
    },
    {
      "cell_type": "markdown",
      "source": [
        "# Review Data\n",
        "Before building a model, a quick look at **X** to verify it"
      ],
      "metadata": {
        "id": "pY-3Ep0G3WZ0"
      }
    },
    {
      "cell_type": "code",
      "source": [
        "# Review data\n",
        "# printing description or statistics from X\n",
        "print(X.describe())\n",
        "\n",
        "# printing the top few lines\n",
        "print(X.head())"
      ],
      "metadata": {
        "execution": {
          "iopub.status.busy": "2022-08-03T21:44:53.857591Z",
          "iopub.execute_input": "2022-08-03T21:44:53.858045Z",
          "iopub.status.idle": "2022-08-03T21:44:53.897183Z",
          "shell.execute_reply.started": "2022-08-03T21:44:53.858010Z",
          "shell.execute_reply": "2022-08-03T21:44:53.896205Z"
        },
        "trusted": true,
        "id": "HgQsIte_3WZ0"
      },
      "execution_count": null,
      "outputs": []
    },
    {
      "cell_type": "markdown",
      "source": [
        "# Step 3: Specify and Fit Model\n",
        "Creating a `DecisionTreeRegressor` and saving it iowa_model. \n",
        "Then fitting the modelusing the data in `X` and `y` saved above."
      ],
      "metadata": {
        "id": "7B8YzBzP3WZ0"
      }
    },
    {
      "cell_type": "code",
      "source": [
        "from sklearn.tree import DecisionTreeRegressor\n",
        "#specifying the model. \n",
        "iowa_model = DecisionTreeRegressor(random_state=1)\n",
        "\n",
        "# Fit the model\n",
        "iowa_model.fit(X,y)"
      ],
      "metadata": {
        "execution": {
          "iopub.status.busy": "2022-08-03T21:47:11.557723Z",
          "iopub.execute_input": "2022-08-03T21:47:11.558162Z",
          "iopub.status.idle": "2022-08-03T21:47:11.583409Z",
          "shell.execute_reply.started": "2022-08-03T21:47:11.558129Z",
          "shell.execute_reply": "2022-08-03T21:47:11.581708Z"
        },
        "trusted": true,
        "id": "hjnWkUWt3WZ1"
      },
      "execution_count": null,
      "outputs": []
    },
    {
      "cell_type": "markdown",
      "source": [
        "# Step 4: Making Predictions\n",
        "Making predictions with the model's `predict` command using `X` as the data."
      ],
      "metadata": {
        "id": "xG8EBpF83WZ3"
      }
    },
    {
      "cell_type": "code",
      "source": [
        "predictions = iowa_model.predict(X)\n",
        "print(predictions)"
      ],
      "metadata": {
        "execution": {
          "iopub.status.busy": "2022-08-03T21:49:12.117491Z",
          "iopub.execute_input": "2022-08-03T21:49:12.118103Z",
          "iopub.status.idle": "2022-08-03T21:49:12.146745Z",
          "shell.execute_reply.started": "2022-08-03T21:49:12.118047Z",
          "shell.execute_reply": "2022-08-03T21:49:12.145183Z"
        },
        "trusted": true,
        "id": "DPg55Vs93WZ4"
      },
      "execution_count": null,
      "outputs": []
    }
  ]
}