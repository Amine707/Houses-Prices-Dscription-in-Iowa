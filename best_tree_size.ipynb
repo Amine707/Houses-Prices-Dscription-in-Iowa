{
  "metadata": {
    "kernelspec": {
      "display_name": "Python 3",
      "language": "python",
      "name": "python3"
    },
    "language_info": {
      "name": "python",
      "version": "3.7.12",
      "mimetype": "text/x-python",
      "codemirror_mode": {
        "name": "ipython",
        "version": 3
      },
      "pygments_lexer": "ipython3",
      "nbconvert_exporter": "python",
      "file_extension": ".py"
    },
    "colab": {
      "name": "best_tree_size.ipynb",
      "provenance": [],
      "toc_visible": true
    }
  },
  "nbformat_minor": 0,
  "nbformat": 4,
  "cells": [
    {
      "cell_type": "markdown",
      "source": [
        "## Recap"
      ],
      "metadata": {
        "id": "E4mh-LGaAmrc"
      }
    },
    {
      "cell_type": "code",
      "source": [
        "import pandas as pd\n",
        "from sklearn.metrics import mean_absolute_error\n",
        "from sklearn.model_selection import train_test_split\n",
        "from sklearn.tree import DecisionTreeRegressor\n",
        "\n",
        "\n",
        "# Path of the file to read\n",
        "iowa_file_path = '../input/home-data-for-ml-course/train.csv'\n",
        "\n",
        "home_data = pd.read_csv(iowa_file_path)\n",
        "# Create target object and call it y\n",
        "y = home_data.SalePrice\n",
        "# Create X\n",
        "features = ['LotArea', 'YearBuilt', '1stFlrSF', '2ndFlrSF', 'FullBath', 'BedroomAbvGr', 'TotRmsAbvGrd']\n",
        "X = home_data[features]\n",
        "\n",
        "# Split into validation and training data\n",
        "train_X, val_X, train_y, val_y = train_test_split(X, y, random_state=1)\n",
        "\n",
        "# Specify Model\n",
        "iowa_model = DecisionTreeRegressor(random_state=1)\n",
        "# Fit Model\n",
        "iowa_model.fit(train_X, train_y)\n",
        "\n",
        "# Make validation predictions and calculate mean absolute error\n",
        "val_predictions = iowa_model.predict(val_X)\n",
        "val_mae = mean_absolute_error(val_predictions, val_y)\n",
        "print(\"Validation MAE: {:,.0f}\".format(val_mae))"
      ],
      "metadata": {
        "execution": {
          "iopub.status.busy": "2022-08-03T22:39:40.270642Z",
          "iopub.execute_input": "2022-08-03T22:39:40.271486Z",
          "iopub.status.idle": "2022-08-03T22:39:41.698524Z",
          "shell.execute_reply.started": "2022-08-03T22:39:40.271369Z",
          "shell.execute_reply": "2022-08-03T22:39:41.696430Z"
        },
        "trusted": true,
        "id": "jhCEEyFsAmrd"
      },
      "execution_count": null,
      "outputs": []
    },
    {
      "cell_type": "markdown",
      "source": [
        "The function `get_mae` to obtain mean absolute error for each tree size. "
      ],
      "metadata": {
        "id": "W-qyVQURAmrf"
      }
    },
    {
      "cell_type": "code",
      "source": [
        "def get_mae(max_leaf_nodes, train_X, val_X, train_y, val_y):\n",
        "    model = DecisionTreeRegressor(max_leaf_nodes=max_leaf_nodes, random_state=0)\n",
        "    model.fit(train_X, train_y)\n",
        "    preds_val = model.predict(val_X)\n",
        "    mae = mean_absolute_error(val_y, preds_val)\n",
        "    return(mae)"
      ],
      "metadata": {
        "execution": {
          "iopub.status.busy": "2022-08-03T22:41:39.718842Z",
          "iopub.execute_input": "2022-08-03T22:41:39.719321Z",
          "iopub.status.idle": "2022-08-03T22:41:39.726362Z",
          "shell.execute_reply.started": "2022-08-03T22:41:39.719268Z",
          "shell.execute_reply": "2022-08-03T22:41:39.725018Z"
        },
        "trusted": true,
        "id": "VLwq-9DyAmrg"
      },
      "execution_count": null,
      "outputs": []
    },
    {
      "cell_type": "markdown",
      "source": [
        "## Step 1: Compare Different Tree Sizes\n",
        "A loop that tries the following values for *max_leaf_nodes* from a set of possible values.\n",
        "\n",
        "Calling the *get_mae* function on each value of max_leaf_nodes. Storing the output in some way that allows us to select the value of `max_leaf_nodes` that gives the most accurate model on our data."
      ],
      "metadata": {
        "id": "VWzINIg6Amrh"
      }
    },
    {
      "cell_type": "code",
      "source": [
        "candidate_max_leaf_nodes = [5, 25, 50, 100, 250, 500]\n",
        "# loop to find the ideal tree size from candidate_max_leaf_nodes\n",
        "best_mln =  5\n",
        "best_mae = float('inf')\n",
        "for max_leaf_nodes in [5, 25, 50, 100, 250, 500] :\n",
        "    mae = get_mae(max_leaf_nodes,train_X, val_X, train_y, val_y)\n",
        "    if mae < best_mae :\n",
        "        best_mae = mae\n",
        "        best_mln = max_leaf_nodes\n",
        "# Storing the best value of max_leaf_nodes (it will be either 5, 25, 50, 100, 250 or 500)\n",
        "best_tree_size = best_mln\n",
        "print(best_tree_size)"
      ],
      "metadata": {
        "execution": {
          "iopub.status.busy": "2022-08-03T22:50:28.000261Z",
          "iopub.execute_input": "2022-08-03T22:50:28.000663Z",
          "iopub.status.idle": "2022-08-03T22:50:28.051858Z",
          "shell.execute_reply.started": "2022-08-03T22:50:28.000631Z",
          "shell.execute_reply": "2022-08-03T22:50:28.050698Z"
        },
        "trusted": true,
        "id": "T2zTGoViAmri"
      },
      "execution_count": null,
      "outputs": []
    },
    {
      "cell_type": "markdown",
      "source": [
        "## Step 2: Fit Model Using All Data\n",
        "The best tree size is known. If we were going to deploy this model in practice, you would make it even more accurate by using all of the data and keeping that tree size."
      ],
      "metadata": {
        "id": "uPedl3HiAmrk"
      }
    },
    {
      "cell_type": "code",
      "source": [
        "# Filling in argument to make optimal size and uncomment\n",
        "final_model = DecisionTreeRegressor(max_leaf_nodes=best_tree_size,random_state=0)\n",
        "\n",
        "# fitting the final model \n",
        "final_model.fit(X,y)"
      ],
      "metadata": {
        "execution": {
          "iopub.status.busy": "2022-08-03T22:52:27.940176Z",
          "iopub.execute_input": "2022-08-03T22:52:27.940593Z",
          "iopub.status.idle": "2022-08-03T22:52:27.961223Z",
          "shell.execute_reply.started": "2022-08-03T22:52:27.940560Z",
          "shell.execute_reply": "2022-08-03T22:52:27.959749Z"
        },
        "trusted": true,
        "id": "UNbJfOaLAmrl"
      },
      "execution_count": null,
      "outputs": []
    }
  ]
}