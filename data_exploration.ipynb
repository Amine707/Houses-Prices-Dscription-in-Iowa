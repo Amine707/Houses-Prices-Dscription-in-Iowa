{
  "metadata": {
    "kernelspec": {
      "display_name": "Python 3",
      "language": "python",
      "name": "python3"
    },
    "language_info": {
      "name": "python",
      "version": "3.7.12",
      "mimetype": "text/x-python",
      "codemirror_mode": {
        "name": "ipython",
        "version": 3
      },
      "pygments_lexer": "ipython3",
      "nbconvert_exporter": "python",
      "file_extension": ".py"
    },
    "colab": {
      "name": "data_exploration.ipynb",
      "provenance": [],
      "toc_visible": true
    }
  },
  "nbformat_minor": 0,
  "nbformat": 4,
  "cells": [
    {
      "cell_type": "markdown",
      "source": [
        "## Step 1: Loading Data\n",
        "Reading the Iowa data file into a Pandas DataFrame called `home_data`."
      ],
      "metadata": {
        "id": "7tx97Xk93m7t"
      }
    },
    {
      "cell_type": "code",
      "source": [
        "import pandas as pd\n",
        "\n",
        "# Path of the file to read\n",
        "iowa_file_path = '../input/home-data-for-ml-course/train.csv'\n",
        "\n",
        "# Read the file into a variable home_data\n",
        "home_data = pd.read_csv(iowa_file_path)"
      ],
      "metadata": {
        "execution": {
          "iopub.status.busy": "2022-08-03T21:25:31.981801Z",
          "iopub.execute_input": "2022-08-03T21:25:31.983001Z",
          "iopub.status.idle": "2022-08-03T21:25:32.039498Z",
          "shell.execute_reply.started": "2022-08-03T21:25:31.982948Z",
          "shell.execute_reply": "2022-08-03T21:25:32.038702Z"
        },
        "trusted": true,
        "id": "t-dRJXdZ3m7u"
      },
      "execution_count": null,
      "outputs": []
    },
    {
      "cell_type": "markdown",
      "source": [
        "## Step 2: Review The Data\n",
        "Viewing summary statistics of the data."
      ],
      "metadata": {
        "id": "4dOmuc3S3m7v"
      }
    },
    {
      "cell_type": "code",
      "source": [
        "# Summary statistics in next line\n",
        "home_data.describe()"
      ],
      "metadata": {
        "execution": {
          "iopub.status.busy": "2022-08-03T21:27:32.222007Z",
          "iopub.execute_input": "2022-08-03T21:27:32.222478Z",
          "iopub.status.idle": "2022-08-03T21:27:32.338871Z",
          "shell.execute_reply.started": "2022-08-03T21:27:32.222442Z",
          "shell.execute_reply": "2022-08-03T21:27:32.337735Z"
        },
        "trusted": true,
        "id": "bQaZlOIV3m7w"
      },
      "execution_count": null,
      "outputs": []
    }
  ]
}