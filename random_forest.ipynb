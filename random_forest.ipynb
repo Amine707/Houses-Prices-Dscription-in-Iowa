{
  "metadata": {
    "kernelspec": {
      "display_name": "Python 3",
      "language": "python",
      "name": "python3"
    },
    "language_info": {
      "name": "python",
      "version": "3.7.12",
      "mimetype": "text/x-python",
      "codemirror_mode": {
        "name": "ipython",
        "version": 3
      },
      "pygments_lexer": "ipython3",
      "nbconvert_exporter": "python",
      "file_extension": ".py"
    },
    "colab": {
      "name": "random_forest.ipynb",
      "provenance": [],
      "toc_visible": true
    }
  },
  "nbformat_minor": 0,
  "nbformat": 4,
  "cells": [
    {
      "cell_type": "markdown",
      "source": [
        "## Recap"
      ],
      "metadata": {
        "id": "FSOL3KnSB4IS"
      }
    },
    {
      "cell_type": "code",
      "source": [
        "import pandas as pd\n",
        "from sklearn.metrics import mean_absolute_error\n",
        "from sklearn.model_selection import train_test_split\n",
        "from sklearn.tree import DecisionTreeRegressor\n",
        "\n",
        "\n",
        "# Path of the file to read\n",
        "iowa_file_path = '../input/home-data-for-ml-course/train.csv'\n",
        "\n",
        "home_data = pd.read_csv(iowa_file_path)\n",
        "# Creating target object and call it y\n",
        "y = home_data.SalePrice\n",
        "# Creating X\n",
        "features = ['LotArea', 'YearBuilt', '1stFlrSF', '2ndFlrSF', 'FullBath', 'BedroomAbvGr', 'TotRmsAbvGrd']\n",
        "X = home_data[features]\n",
        "\n",
        "# Spliting into validation and training data\n",
        "train_X, val_X, train_y, val_y = train_test_split(X, y, random_state=1)\n",
        "\n",
        "# Specify Model\n",
        "iowa_model = DecisionTreeRegressor(random_state=1)\n",
        "# Fitting Model\n",
        "iowa_model.fit(train_X, train_y)\n",
        "\n",
        "# Making validation predictions and calculate mean absolute error\n",
        "val_predictions = iowa_model.predict(val_X)\n",
        "val_mae = mean_absolute_error(val_predictions, val_y)\n",
        "print(\"Validation MAE when not specifying max_leaf_nodes: {:,.0f}\".format(val_mae))\n",
        "\n",
        "# Using best value for max_leaf_nodes\n",
        "iowa_model = DecisionTreeRegressor(max_leaf_nodes=100, random_state=1)\n",
        "iowa_model.fit(train_X, train_y)\n",
        "val_predictions = iowa_model.predict(val_X)\n",
        "val_mae = mean_absolute_error(val_predictions, val_y)\n",
        "print(\"Validation MAE for best value of max_leaf_nodes: {:,.0f}\".format(val_mae))"
      ],
      "metadata": {
        "execution": {
          "iopub.status.busy": "2022-08-03T22:56:14.442989Z",
          "iopub.execute_input": "2022-08-03T22:56:14.444049Z",
          "iopub.status.idle": "2022-08-03T22:56:16.253461Z",
          "shell.execute_reply.started": "2022-08-03T22:56:14.443878Z",
          "shell.execute_reply": "2022-08-03T22:56:16.252030Z"
        },
        "trusted": true,
        "id": "dGNg17QIB4IT"
      },
      "execution_count": null,
      "outputs": []
    },
    {
      "cell_type": "markdown",
      "source": [
        "## Step 1: Using a Random Forest"
      ],
      "metadata": {
        "id": "wuLRPeJnB4IX"
      }
    },
    {
      "cell_type": "code",
      "source": [
        "from sklearn.ensemble import RandomForestRegressor\n",
        "\n",
        "# Defining the model. \n",
        "rf_model = RandomForestRegressor(random_state=1)\n",
        "\n",
        "# fitting your model\n",
        "rf_model.fit(train_X, train_y)\n",
        "val_predictions=rf_model.predict(val_X)\n",
        "\n",
        "# Calculating the mean absolute error of your Random Forest model on the validation data\n",
        "rf_val_mae = mean_absolute_error(val_predictions, val_y)\n",
        "\n",
        "print(\"Validation MAE for Random Forest Model: {}\".format(rf_val_mae))"
      ],
      "metadata": {
        "execution": {
          "iopub.status.busy": "2022-08-03T23:01:01.019954Z",
          "iopub.execute_input": "2022-08-03T23:01:01.020381Z",
          "iopub.status.idle": "2022-08-03T23:01:01.490618Z",
          "shell.execute_reply.started": "2022-08-03T23:01:01.020350Z",
          "shell.execute_reply": "2022-08-03T23:01:01.489536Z"
        },
        "trusted": true,
        "id": "cfw9ZnEsB4IY"
      },
      "execution_count": null,
      "outputs": []
    }
  ]
}