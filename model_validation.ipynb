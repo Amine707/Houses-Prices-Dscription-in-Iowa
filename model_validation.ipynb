{
  "metadata": {
    "kernelspec": {
      "display_name": "Python 3",
      "language": "python",
      "name": "python3"
    },
    "language_info": {
      "name": "python",
      "version": "3.7.12",
      "mimetype": "text/x-python",
      "codemirror_mode": {
        "name": "ipython",
        "version": 3
      },
      "pygments_lexer": "ipython3",
      "nbconvert_exporter": "python",
      "file_extension": ".py"
    },
    "colab": {
      "name": "model_validation.ipynb",
      "provenance": [],
      "toc_visible": true
    }
  },
  "nbformat_minor": 0,
  "nbformat": 4,
  "cells": [
    {
      "cell_type": "markdown",
      "source": [
        "## Recap"
      ],
      "metadata": {
        "id": "nG511ZJp3WWD"
      }
    },
    {
      "cell_type": "code",
      "source": [
        "import pandas as pd\n",
        "from sklearn.tree import DecisionTreeRegressor\n",
        "\n",
        "# Path of the file to read\n",
        "iowa_file_path = '../input/home-data-for-ml-course/train.csv'\n",
        "\n",
        "home_data = pd.read_csv(iowa_file_path)\n",
        "y = home_data.SalePrice\n",
        "feature_columns = ['LotArea', 'YearBuilt', '1stFlrSF', '2ndFlrSF', 'FullBath', 'BedroomAbvGr', 'TotRmsAbvGrd']\n",
        "X = home_data[feature_columns]\n",
        "\n",
        "# Specify Model\n",
        "iowa_model = DecisionTreeRegressor()\n",
        "# Fit Model\n",
        "iowa_model.fit(X, y)\n",
        "\n",
        "print(\"First in-sample predictions:\", iowa_model.predict(X.head()))\n",
        "print(\"Actual target values for those homes:\", y.head().tolist())"
      ],
      "metadata": {
        "execution": {
          "iopub.status.busy": "2022-08-03T21:59:43.803234Z",
          "iopub.execute_input": "2022-08-03T21:59:43.803711Z",
          "iopub.status.idle": "2022-08-03T21:59:45.464015Z",
          "shell.execute_reply.started": "2022-08-03T21:59:43.803610Z",
          "shell.execute_reply": "2022-08-03T21:59:45.462618Z"
        },
        "trusted": true,
        "id": "BuxhrE7t3WWE"
      },
      "execution_count": null,
      "outputs": []
    },
    {
      "cell_type": "markdown",
      "source": [
        "# Step 1: Split Your Data\n",
        "Using the `train_test_split` function to split up data.\n"
      ],
      "metadata": {
        "id": "3q_LyRCd3WWG"
      }
    },
    {
      "cell_type": "code",
      "source": [
        "# Importing the train_test_split function \n",
        "from sklearn.model_selection import train_test_split\n",
        "\n",
        "train_X, val_X, train_y, val_y = train_test_split(X, y, random_state = 1)\n"
      ],
      "metadata": {
        "execution": {
          "iopub.status.busy": "2022-08-03T22:01:08.983249Z",
          "iopub.execute_input": "2022-08-03T22:01:08.983772Z",
          "iopub.status.idle": "2022-08-03T22:01:09.001630Z",
          "shell.execute_reply.started": "2022-08-03T22:01:08.983730Z",
          "shell.execute_reply": "2022-08-03T22:01:09.000513Z"
        },
        "trusted": true,
        "id": "-o2_WP6U3WWG"
      },
      "execution_count": null,
      "outputs": []
    },
    {
      "cell_type": "markdown",
      "source": [
        "# Step 2: Specify and Fit the Model\n",
        "\n",
        "Creating a `DecisionTreeRegressor` model and fit it to the relevant data."
      ],
      "metadata": {
        "id": "yAqicMR03WWI"
      }
    },
    {
      "cell_type": "code",
      "source": [
        "# Specifying the model\n",
        "iowa_model = DecisionTreeRegressor(random_state=1)\n",
        "\n",
        "# Fitting iowa_model with the training data.\n",
        "iowa_model.fit(train_X, train_y)"
      ],
      "metadata": {
        "execution": {
          "iopub.status.busy": "2022-08-03T22:02:30.323136Z",
          "iopub.execute_input": "2022-08-03T22:02:30.323595Z",
          "iopub.status.idle": "2022-08-03T22:02:30.354732Z",
          "shell.execute_reply.started": "2022-08-03T22:02:30.323552Z",
          "shell.execute_reply": "2022-08-03T22:02:30.353067Z"
        },
        "trusted": true,
        "id": "iafahnvV3WWI"
      },
      "execution_count": null,
      "outputs": []
    },
    {
      "cell_type": "markdown",
      "source": [
        "# Step 3: Making Predictions with Validation data\n"
      ],
      "metadata": {
        "id": "AJQO9th63WWK"
      }
    },
    {
      "cell_type": "code",
      "source": [
        "# Predicting with all validation observations\n",
        "val_predictions = iowa_model.predict(val_X)"
      ],
      "metadata": {
        "execution": {
          "iopub.status.busy": "2022-08-03T22:03:16.788347Z",
          "iopub.execute_input": "2022-08-03T22:03:16.788784Z",
          "iopub.status.idle": "2022-08-03T22:03:16.807451Z",
          "shell.execute_reply.started": "2022-08-03T22:03:16.788751Z",
          "shell.execute_reply": "2022-08-03T22:03:16.806060Z"
        },
        "trusted": true,
        "id": "FWj4i6BZ3WWK"
      },
      "execution_count": null,
      "outputs": []
    },
    {
      "cell_type": "markdown",
      "source": [
        "Inspecting predictions and actual values from validation data."
      ],
      "metadata": {
        "id": "pKjcI_4d3WWL"
      }
    },
    {
      "cell_type": "code",
      "source": [
        "# printing the top few validation predictions\n",
        "print(val_predictions)\n",
        "# printing the top few actual prices from validation data\n",
        "print(val_y)"
      ],
      "metadata": {
        "execution": {
          "iopub.status.busy": "2022-08-03T22:05:06.981778Z",
          "iopub.execute_input": "2022-08-03T22:05:06.982217Z",
          "iopub.status.idle": "2022-08-03T22:05:06.996317Z",
          "shell.execute_reply.started": "2022-08-03T22:05:06.982183Z",
          "shell.execute_reply": "2022-08-03T22:05:06.994744Z"
        },
        "trusted": true,
        "id": "k3QBYIDl3WWM"
      },
      "execution_count": null,
      "outputs": []
    },
    {
      "cell_type": "markdown",
      "source": [
        "# Step 4: Calculate the Mean Absolute Error in Validation Data\n"
      ],
      "metadata": {
        "id": "lnLPlrLB3WWM"
      }
    },
    {
      "cell_type": "code",
      "source": [
        "from sklearn.metrics import mean_absolute_error\n",
        "val_mae = mean_absolute_error(val_y,val_predictions)\n",
        "\n",
        "print(val_mae)"
      ],
      "metadata": {
        "execution": {
          "iopub.status.busy": "2022-08-03T22:05:58.181803Z",
          "iopub.execute_input": "2022-08-03T22:05:58.183383Z",
          "iopub.status.idle": "2022-08-03T22:05:58.199020Z",
          "shell.execute_reply.started": "2022-08-03T22:05:58.183312Z",
          "shell.execute_reply": "2022-08-03T22:05:58.197264Z"
        },
        "trusted": true,
        "id": "YiZQcqDk3WWN"
      },
      "execution_count": null,
      "outputs": []
    }
  ]
}